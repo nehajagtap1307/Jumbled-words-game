{
  "nbformat": 4,
  "nbformat_minor": 0,
  "metadata": {
    "colab": {
      "provenance": []
    },
    "kernelspec": {
      "name": "python3",
      "display_name": "Python 3"
    },
    "language_info": {
      "name": "python"
    }
  },
  "cells": [
    {
      "cell_type": "code",
      "execution_count": 12,
      "metadata": {
        "colab": {
          "base_uri": "https://localhost:8080/"
        },
        "id": "ZJpRW7DRctLG",
        "outputId": "66087624-2281-4c6e-d489-b7d9ee6ce4ec"
      },
      "outputs": [
        {
          "output_type": "stream",
          "name": "stdout",
          "text": [
            "player 1, please enter your nameNeha\n",
            "player 2, please enter your nameAdi\n",
            "ncoibaniostm\n",
            "Neha its your turn\n",
            "enter your answercombinations\n",
            "correct answer\n",
            "Your new score is: 1\n",
            "enter 1 to continue and 0 to quit1\n",
            "oncuptimg\n",
            "Adi its your turn\n",
            "enter your answercomputing\n",
            "correct answer\n",
            "your new score is: 1\n",
            "enter 1 to continue and 0 to quit0\n",
            "THANK YOU\n",
            "Neha your score is: 1\n",
            "Adi your score is: 1\n"
          ]
        }
      ],
      "source": [
        "#Permutation - Jumbled words game\n",
        "import random\n",
        "\n",
        "def choose():\n",
        "  words=[\"programming\",\"players\",\"computers\",\"rainbow\",\"permutation\",\"combinations\",\"september\",\"python\",\"computing\",\"challenge\"]\n",
        "  pick=random.choice(words)\n",
        "  return pick\n",
        "\n",
        "def jumble(word):\n",
        "  jumbled=\"\".join(random.sample(word,len(word)))\n",
        "  return jumbled\n",
        "\n",
        "def play():\n",
        "  p1name=input(\"player 1, please enter your name\")\n",
        "  p2name=input(\"player 2, please enter your name\")\n",
        "  #initially points of both players are zero and the no of turns will also be zero\n",
        "  pp1=0\n",
        "  pp2=0\n",
        "  turn=0\n",
        "  while(1):\n",
        "    # computers task\n",
        "    picked_word=choose()\n",
        "    ques=jumble(picked_word) #creating question\n",
        "    print(ques)\n",
        "    #player1\n",
        "    if turn%2==0:\n",
        "      print(p1name,\"its your turn\")\n",
        "      ans=input(\"enter your answer\")\n",
        "      if ans==picked_word:\n",
        "        print(\"correct answer\")\n",
        "        pp1=pp1+1\n",
        "        print(\"Your new score is:\",pp1)\n",
        "      else:\n",
        "        print(\"better luck next time,\\n correct answer was \",picked_word)\n",
        "      c=int(input(\"enter 1 to continue and 0 to quit\"))\n",
        "      if c==0:\n",
        "        print(\"THANK YOU\")\n",
        "        print(p1name,\"your score is:\",pp1)\n",
        "        print(p2name,\"your score is:\",pp2)\n",
        "        break\n",
        "    #player 2\n",
        "    else:\n",
        "      print(p2name,\"its your turn\")\n",
        "      ans=input(\"enter your answer\")\n",
        "      if ans==picked_word:\n",
        "        print(\"correct answer\")\n",
        "        pp2=pp2+1\n",
        "        print(\"your new score is:\",pp2)\n",
        "      else:\n",
        "        print(\"better luck next time\\ncorrect answer was \",picked_word)\n",
        "      c=int(input(\"enter 1 to continue and 0 to quit\"))\n",
        "      if c==0:\n",
        "        print(\"THANK YOU\")\n",
        "        print(p1name,\"your score is:\",pp1)\n",
        "        print(p2name,\"your score is:\",pp2)\n",
        "        break\n",
        "    turn=turn+1\n",
        "play()\n",
        "\n",
        "\n",
        "\n",
        "\n",
        "\n",
        "\n",
        "\n"
      ]
    }
  ]
}